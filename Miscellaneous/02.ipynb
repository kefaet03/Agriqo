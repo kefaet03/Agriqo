{
 "cells": [
  {
   "cell_type": "code",
   "execution_count": 95,
   "metadata": {},
   "outputs": [],
   "source": [
    "import os\n",
    "import random\n",
    "import pandas as pd\n",
    "import matplotlib.pyplot as plt\n",
    "import matplotlib.image as mpimg\n",
    "import warnings\n",
    "warnings.filterwarnings(\"ignore\")"
   ]
  },
  {
   "cell_type": "code",
   "execution_count": 96,
   "metadata": {},
   "outputs": [],
   "source": [
    "data_dir = \"E:\\\\He_is_enough03 X UniqoXTech X Dreams\\\\Click_here\\\\Artificial Intelligence\\\\ML - AGRIQO\\\\Data set\\\\Agriqo(slider1) - Sheet1.csv\"\n",
    "\n",
    "data = pd.read_csv(data_dir)"
   ]
  },
  {
   "cell_type": "code",
   "execution_count": 97,
   "metadata": {},
   "outputs": [],
   "source": [
    "col = ['Unnamed: 9','Unnamed: 10','Unnamed: 11','Unnamed: 12']\n",
    "data.drop(columns=col, axis=1, inplace=True)"
   ]
  },
  {
   "cell_type": "code",
   "execution_count": 98,
   "metadata": {},
   "outputs": [
    {
     "name": "stdout",
     "output_type": "stream",
     "text": [
      "Total number of rows in augmented data: 5595\n"
     ]
    }
   ],
   "source": [
    "import numpy as np\n",
    "\n",
    "augmented_data = []\n",
    "\n",
    "for index, row in data.iterrows():\n",
    "    for _ in range(15):\n",
    "        new_row = {\n",
    "            'Agricultural zone': row['Agricultural zone'],\n",
    "            'month(chara)': row['month(chara)'],\n",
    "            'rainfall (mm)': row['rainfall (mm)'] + np.random.uniform(-3, 3),\n",
    "            'temperature(avg)': row['temperature(avg)'] + np.random.uniform(-2, 2),\n",
    "            'humidity(avg)': row['humidity(avg)'] + np.random.uniform(-10, 10),\n",
    "            'sunlight(hour)': row['sunlight(hour)'],\n",
    "            'direction of wind(deg)': row['direction of wind(deg)'] + np.random.uniform(-40, 40),\n",
    "            'velocity of wind(km/h)': row['velocity of wind(km/h)'] + np.random.uniform(-5, 5),\n",
    "            'label': row['label']\n",
    "        }\n",
    "        augmented_data.append(new_row)\n",
    "\n",
    "augmented_data_df = pd.DataFrame(augmented_data)\n",
    "\n",
    "print(f\"Total number of rows in augmented data: {len(augmented_data_df)}\")\n"
   ]
  },
  {
   "cell_type": "code",
   "execution_count": 99,
   "metadata": {},
   "outputs": [],
   "source": [
    "data = pd.concat([data, augmented_data_df], ignore_index=True)"
   ]
  },
  {
   "cell_type": "code",
   "execution_count": 100,
   "metadata": {},
   "outputs": [],
   "source": [
    "data = pd.get_dummies(data, columns=['Agricultural zone'])"
   ]
  },
  {
   "cell_type": "code",
   "execution_count": 101,
   "metadata": {},
   "outputs": [
    {
     "name": "stdout",
     "output_type": "stream",
     "text": [
      "{'Aman': 0, 'Aush': 1, 'Badam Kharip - 1': 2, 'Badam robi': 3, 'Banana': 4, 'Boro': 5, 'Brinjal(Khorip)': 6, 'Brinjal(Robi)': 7, 'Corn(Robi)': 8, 'Guava': 9, 'Kharif cucumber': 10, 'Khorip Mug 1': 11, 'Mango': 12, 'Potato': 13, 'Rabi Cucumber': 14, 'Red Lentil': 15, 'Robi Mug': 16, 'Soybean': 17, 'Sugarcane': 18, 'Tomato': 19, 'Tula': 20, 'Wheat': 21, 'corn khorip-1': 22, 'garlic': 23, 'indian jujube': 24, 'jackfruit': 25, 'jute': 26, 'khorip green chilli': 27, 'khorip lau (grourd)': 28, 'khorip onion': 29, 'khorip pointed grourd': 30, 'khorip pumpkin Cucurbita': 31, 'licchi': 32, 'masterd seed': 33, 'papaya': 34, 'pineapple': 35, 'robi green chilli ': 36, 'robi lau (gourd)': 37, 'robi onion': 38, 'robi pointed gourd': 39, 'robi pumpkin Cucurbita': 40}\n"
     ]
    }
   ],
   "source": [
    "from sklearn.preprocessing import LabelEncoder\n",
    "\n",
    "encoder = LabelEncoder()\n",
    "\n",
    "data['label'] = encoder.fit_transform(data['label'])\n",
    "\n",
    "label_mapping = {original_label: encoded_value for encoded_value, original_label in enumerate(encoder.classes_)}\n",
    "\n",
    "print(label_mapping)"
   ]
  },
  {
   "cell_type": "code",
   "execution_count": 102,
   "metadata": {},
   "outputs": [
    {
     "name": "stdout",
     "output_type": "stream",
     "text": [
      "Train set size: (4296, 21)\n",
      "Validation set size: (597, 21)\n",
      "Test set size: (1075, 21)\n"
     ]
    }
   ],
   "source": [
    "from sklearn.metrics import accuracy_score, precision_score, recall_score, f1_score\n",
    "from sklearn.preprocessing import RobustScaler\n",
    "from sklearn.linear_model import LogisticRegression\n",
    "from sklearn.tree import DecisionTreeClassifier\n",
    "from sklearn.ensemble import RandomForestClassifier, GradientBoostingClassifier, AdaBoostClassifier\n",
    "from xgboost import XGBClassifier\n",
    "from sklearn.svm import SVC\n",
    "from sklearn.neighbors import KNeighborsClassifier\n",
    "from sklearn.naive_bayes import GaussianNB\n",
    "from catboost import CatBoostClassifier\n",
    "import lightgbm as lgb\n",
    "from sklearn.model_selection import train_test_split\n",
    "from sklearn.linear_model import LogisticRegression\n",
    "from sklearn.ensemble import HistGradientBoostingClassifier\n",
    "from sklearn import metrics\n",
    "\n",
    "X = data.drop(['label'],axis=1)\n",
    "y = data['label']\n",
    "\n",
    "X_t, X_val, y_t, y_val = train_test_split(X, y, test_size=0.1, random_state=42)\n",
    "\n",
    "X_num = X_t[['rainfall (mm)', 'temperature(avg)', 'humidity(avg)', 'sunlight(hour)','direction of wind(deg)', 'velocity of wind(km/h)']]\n",
    "X_cat = X_t[['month(chara)','Agricultural zone_Barisal','Agricultural zone_Bogra', 'Agricultural zone_Chittagonj',\n",
    "       'Agricultural zone_Cumilla', 'Agricultural zone_Dhaka',\n",
    "       'Agricultural zone_Dinajpur', 'Agricultural zone_Faridpur',\n",
    "       'Agricultural zone_Jashore', 'Agricultural zone_Khulna',\n",
    "       'Agricultural zone_Mymensingh', 'Agricultural zone_Rajshahi',\n",
    "       'Agricultural zone_Rangamati', 'Agricultural zone_Rangpur',\n",
    "       'Agricultural zone_Sylhet']]\n",
    "\n",
    "scaled_list=[]\n",
    "scalers = {}\n",
    "\n",
    "agricultural_zones = [\n",
    "    'Agricultural zone_Barisal', 'Agricultural zone_Bogra', 'Agricultural zone_Chittagonj',\n",
    "    'Agricultural zone_Cumilla', 'Agricultural zone_Dhaka', 'Agricultural zone_Dinajpur', \n",
    "    'Agricultural zone_Faridpur', 'Agricultural zone_Jashore', 'Agricultural zone_Khulna',\n",
    "    'Agricultural zone_Mymensingh', 'Agricultural zone_Rajshahi', 'Agricultural zone_Rangamati', \n",
    "    'Agricultural zone_Rangpur', 'Agricultural zone_Sylhet'\n",
    "]\n",
    "\n",
    "for zone in agricultural_zones:\n",
    "    zone_data = X_num[X_t[zone] == 1]\n",
    "    \n",
    "    if not zone_data.empty:\n",
    "        scaler = RobustScaler()\n",
    "        scaled_zone_data = scaler.fit_transform(zone_data)\n",
    "        scaled_zone_df = pd.DataFrame(scaled_zone_data, columns=X_num.columns, index=zone_data.index)\n",
    "        \n",
    "        scaled_list.append(scaled_zone_df)\n",
    "        scalers[zone] = scaler \n",
    "\n",
    "scaled_data = pd.concat(scaled_list)\n",
    "# print(scaled_data.shape)\n",
    "scaled_data = pd.concat([scaled_data, X_cat], axis=1)\n",
    "scaled_data['label']=y_t\n",
    "\n",
    "# print(scaled_data.isnull().sum().sum())\n",
    "# print(scaled_data.shape)\n",
    "\n",
    "X_scaled = scaled_data.drop(['label'],axis=1)\n",
    "y_scaled = scaled_data['label']\n",
    "\n",
    "X_train, X_test, y_train, y_test = train_test_split(X_scaled, y_scaled, test_size=0.2, random_state=42)\n",
    "\n",
    "print(\"Train set size:\", X_train.shape)\n",
    "print(\"Validation set size:\", X_val.shape)\n",
    "print(\"Test set size:\", X_test.shape)"
   ]
  },
  {
   "cell_type": "code",
   "execution_count": 103,
   "metadata": {},
   "outputs": [
    {
     "name": "stdout",
     "output_type": "stream",
     "text": [
      "0 Class: Agricultural zone_Barisal\n",
      "1 Class: Agricultural zone_Bogra\n",
      "2 Class: Agricultural zone_Chittagonj\n",
      "3 Class: Agricultural zone_Cumilla\n",
      "4 Class: Agricultural zone_Dhaka\n",
      "5 Class: Agricultural zone_Dinajpur\n",
      "6 Class: Agricultural zone_Faridpur\n",
      "7 Class: Agricultural zone_Jashore\n",
      "8 Class: Agricultural zone_Khulna\n",
      "9 Class: Agricultural zone_Mymensingh\n",
      "10 Class: Agricultural zone_Rajshahi\n",
      "11 Class: Agricultural zone_Rangamati\n",
      "12 Class: Agricultural zone_Rangpur\n",
      "13 Class: Agricultural zone_Sylhet\n"
     ]
    }
   ],
   "source": [
    "counter = 0\n",
    "for cls, scaler in scalers.items():\n",
    "    print(f\"{counter} Class: {cls}\")\n",
    "    if cls == 8:\n",
    "        medians = scaler.center_  \n",
    "        iqr = scaler.scale_  \n",
    "        for feature, median, iqr_value in zip(X_num.columns, medians, iqr):\n",
    "            print(f\"Feature: {feature}\")\n",
    "            print(f\"  Median: {median}\")\n",
    "            print(f\"  IQR: {iqr_value}\")\n",
    "    # print(\"-\" * 50)\n",
    "    counter+=1"
   ]
  },
  {
   "cell_type": "code",
   "execution_count": 104,
   "metadata": {},
   "outputs": [
    {
     "name": "stdout",
     "output_type": "stream",
     "text": [
      "Training model for Agricultural zone_Barisal...\n",
      "Training model for Agricultural zone_Bogra...\n",
      "Training model for Agricultural zone_Chittagonj...\n",
      "Training model for Agricultural zone_Cumilla...\n",
      "Training model for Agricultural zone_Dhaka...\n",
      "Training model for Agricultural zone_Dinajpur...\n",
      "Training model for Agricultural zone_Faridpur...\n",
      "Training model for Agricultural zone_Jashore...\n",
      "Training model for Agricultural zone_Khulna...\n",
      "Training model for Agricultural zone_Mymensingh...\n",
      "Training model for Agricultural zone_Rajshahi...\n",
      "Training model for Agricultural zone_Rangamati...\n",
      "Training model for Agricultural zone_Rangpur...\n",
      "Training model for Agricultural zone_Sylhet...\n"
     ]
    }
   ],
   "source": [
    "from sklearn.ensemble import VotingClassifier\n",
    "\n",
    "zone_models={}\n",
    "\n",
    "for zone in agricultural_zones:\n",
    "    print(f\"Training model for {zone}...\")\n",
    "    \n",
    "    zone_X_train = X_train[X_train[zone]==1]\n",
    "    zone_y_train = y_train[X_train[zone]==1]\n",
    "\n",
    "    zone_X_train = zone_X_train.drop(columns=agricultural_zones)\n",
    "    \n",
    "    model = VotingClassifier(estimators=[\n",
    "        ('dt', DecisionTreeClassifier()),\n",
    "        ('rf', RandomForestClassifier(n_estimators=200)),\n",
    "        ('gb', GradientBoostingClassifier()),\n",
    "        ('cat', CatBoostClassifier(task_type=\"GPU\", verbose=0)),\n",
    "        ('xgb', XGBClassifier(tree_method='gpu_hist', use_label_encoder=False, eval_metric='mlogloss')),\n",
    "    ], voting='soft')\n",
    "    \n",
    "    model.fit(zone_X_train, zone_y_train)\n",
    "    \n",
    "    zone_models[zone] = model"
   ]
  },
  {
   "cell_type": "code",
   "execution_count": 106,
   "metadata": {},
   "outputs": [
    {
     "name": "stdout",
     "output_type": "stream",
     "text": [
      "Zone-wise Model Test Accuracy: 0.7441860465116279\n"
     ]
    }
   ],
   "source": [
    "from sklearn.metrics import accuracy_score\n",
    "\n",
    "y_pred = []\n",
    "y_true = []\n",
    "for idx, row in X_test.iterrows():\n",
    "    zone = None\n",
    "    for z in agricultural_zones:\n",
    "        if row[z] == 1:\n",
    "            zone = z\n",
    "            break \n",
    "\n",
    "    if zone and zone in zone_models:\n",
    "        model = zone_models[zone]\n",
    "\n",
    "        input_data = row.drop(list(agricultural_zones)).values.reshape(1, -1)\n",
    "        \n",
    "        # Make prediction\n",
    "        prediction = model.predict(input_data)[0]\n",
    "\n",
    "        # Store results\n",
    "        y_true.append(y_test.loc[idx])  # Actual label\n",
    "        y_pred.append(prediction)  # Predicted label\n",
    "\n",
    "# Calculate accuracy\n",
    "accuracy = accuracy_score(y_true, y_pred)\n",
    "print(\"Zone-wise Model Test Accuracy:\", accuracy)"
   ]
  },
  {
   "cell_type": "code",
   "execution_count": null,
   "metadata": {},
   "outputs": [],
   "source": []
  },
  {
   "cell_type": "code",
   "execution_count": null,
   "metadata": {},
   "outputs": [],
   "source": []
  },
  {
   "cell_type": "code",
   "execution_count": null,
   "metadata": {},
   "outputs": [],
   "source": []
  },
  {
   "cell_type": "code",
   "execution_count": null,
   "metadata": {},
   "outputs": [],
   "source": []
  },
  {
   "cell_type": "code",
   "execution_count": null,
   "metadata": {},
   "outputs": [],
   "source": []
  },
  {
   "cell_type": "code",
   "execution_count": null,
   "metadata": {},
   "outputs": [],
   "source": []
  },
  {
   "cell_type": "code",
   "execution_count": null,
   "metadata": {},
   "outputs": [],
   "source": []
  }
 ],
 "metadata": {
  "kernelspec": {
   "display_name": "Python 3",
   "language": "python",
   "name": "python3"
  },
  "language_info": {
   "codemirror_mode": {
    "name": "ipython",
    "version": 3
   },
   "file_extension": ".py",
   "mimetype": "text/x-python",
   "name": "python",
   "nbconvert_exporter": "python",
   "pygments_lexer": "ipython3",
   "version": "3.12.6"
  }
 },
 "nbformat": 4,
 "nbformat_minor": 2
}
